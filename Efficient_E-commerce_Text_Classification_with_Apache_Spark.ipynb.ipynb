{
 "cells": [
  {
   "cell_type": "markdown",
   "id": "b5d6aabe-9a61-4856-8a82-ce78cb0e1c44",
   "metadata": {},
   "source": [
    "## <u>Efficient E-commerce Text Classification with Apache Sparke</u>\n",
    "\n",
    "\n",
    "### Project Owner: Manuel Contreras\n",
    "\n",
    "Dataset: https://www.kaggle.com/datasets/saurabhshahane/ecommerce-text-classification"
   ]
  },
  {
   "cell_type": "markdown",
   "id": "578a0c57-bc9b-42cc-a6fe-76c763b55a8d",
   "metadata": {},
   "source": [
    "### 1 - Libraries"
   ]
  },
  {
   "cell_type": "code",
   "execution_count": 51,
   "id": "ed9a2b5f-284e-4a08-be6e-24a734679e29",
   "metadata": {},
   "outputs": [],
   "source": [
    "from pyspark.sql import SparkSession\n",
    "import matplotlib.pyplot as plt\n",
    "from pyspark.sql.functions import length\n",
    "from pyspark.ml.feature import Tokenizer, StopWordsRemover, CountVectorizer, IDF, StringIndexer, VectorAssembler\n",
    "from pyspark.ml import Pipeline\n",
    "from pyspark.ml.classification import NaiveBayes\n",
    "from pyspark.ml.evaluation import MulticlassClassificationEvaluator\n",
    "from pyspark.sql import functions as F\n",
    "import plotly.express as px"
   ]
  },
  {
   "cell_type": "markdown",
   "id": "e69b08dd-6d19-4136-a191-f1e73d3df88e",
   "metadata": {},
   "source": [
    "### 2 - Dataset Import and Data Cleaning"
   ]
  },
  {
   "cell_type": "code",
   "execution_count": 26,
   "id": "bedd1f3e-1c2d-4e06-a601-5cc2e7177c69",
   "metadata": {},
   "outputs": [],
   "source": [
    "spark = SparkSession.builder.appName('TextClassification').getOrCreate()"
   ]
  },
  {
   "cell_type": "code",
   "execution_count": 28,
   "id": "726d09df-4855-421f-af0b-4243c803dce1",
   "metadata": {},
   "outputs": [
    {
     "data": {
      "text/plain": [
       "DataFrame[_c0: string, _c1: string]"
      ]
     },
     "execution_count": 28,
     "metadata": {},
     "output_type": "execute_result"
    }
   ],
   "source": [
    "file_path = r\"C:\\Users\\manue\\Desktop\\DataScience\\Datasets\\ecommerceDataset.csv\"\n",
    "\n",
    "df = spark.read.csv(file_path)\n",
    "\n",
    "df"
   ]
  },
  {
   "cell_type": "code",
   "execution_count": 30,
   "id": "05f683bd-3d16-4874-a3f6-48d8a4b0711e",
   "metadata": {},
   "outputs": [
    {
     "name": "stdout",
     "output_type": "stream",
     "text": [
      "+---------+--------------------+\n",
      "|      _c0|                 _c1|\n",
      "+---------+--------------------+\n",
      "|Household|Paper Plane Desig...|\n",
      "|Household|SAF 'Floral' Fram...|\n",
      "|Household|SAF 'UV Textured ...|\n",
      "|Household|SAF Flower Print ...|\n",
      "|Household|Incredible Gifts ...|\n",
      "|Household|Pitaara Box Roman...|\n",
      "|Household|\"Paper Plane Desi...|\n",
      "|Household|Pitaara Box Roman...|\n",
      "|Household|SAF 'Ganesh Moder...|\n",
      "|Household|Paintings Villa U...|\n",
      "|Household|Painting Mantra A...|\n",
      "|Household|\"Paper Plane Desi...|\n",
      "|Household|Pitaara Box Roman...|\n",
      "|Household|Painting Mantra '...|\n",
      "|Household|Indianara Motivat...|\n",
      "|Household|Tamatina Fabric R...|\n",
      "|Household|SAF Flower Print ...|\n",
      "|Household|Posterhouzz Comic...|\n",
      "|Household|\"ART DIOR | Set o...|\n",
      "|Household|\"ART DIOR | Danci...|\n",
      "+---------+--------------------+\n",
      "only showing top 20 rows\n",
      "\n"
     ]
    }
   ],
   "source": [
    "df.show()"
   ]
  },
  {
   "cell_type": "markdown",
   "id": "898378bf-f917-46d8-aa4b-6b8c976bd31c",
   "metadata": {},
   "source": [
    "The Spark Datasets name columns are named in the following fashion _c*. I prefer renaming the columns, so I get a proper sense of what my data is about"
   ]
  },
  {
   "cell_type": "code",
   "execution_count": 33,
   "id": "744ed4ba-94a2-42ed-a7c0-bf9332b06b5e",
   "metadata": {},
   "outputs": [],
   "source": [
    "df = df.withColumnRenamed('_c0', 'Class').withColumnRenamed('_c1', 'Comment')"
   ]
  },
  {
   "cell_type": "code",
   "execution_count": 35,
   "id": "dbb429f0-2445-4759-bffc-05f14611c0be",
   "metadata": {},
   "outputs": [
    {
     "name": "stdout",
     "output_type": "stream",
     "text": [
      "+---------+--------------------+\n",
      "|    Class|             Comment|\n",
      "+---------+--------------------+\n",
      "|Household|Paper Plane Desig...|\n",
      "|Household|SAF 'Floral' Fram...|\n",
      "|Household|SAF 'UV Textured ...|\n",
      "|Household|SAF Flower Print ...|\n",
      "|Household|Incredible Gifts ...|\n",
      "|Household|Pitaara Box Roman...|\n",
      "|Household|\"Paper Plane Desi...|\n",
      "|Household|Pitaara Box Roman...|\n",
      "|Household|SAF 'Ganesh Moder...|\n",
      "|Household|Paintings Villa U...|\n",
      "|Household|Painting Mantra A...|\n",
      "|Household|\"Paper Plane Desi...|\n",
      "|Household|Pitaara Box Roman...|\n",
      "|Household|Painting Mantra '...|\n",
      "|Household|Indianara Motivat...|\n",
      "|Household|Tamatina Fabric R...|\n",
      "|Household|SAF Flower Print ...|\n",
      "|Household|Posterhouzz Comic...|\n",
      "|Household|\"ART DIOR | Set o...|\n",
      "|Household|\"ART DIOR | Danci...|\n",
      "+---------+--------------------+\n",
      "only showing top 20 rows\n",
      "\n"
     ]
    }
   ],
   "source": [
    "df.show()"
   ]
  },
  {
   "cell_type": "markdown",
   "id": "fe2ef6b7-9ef2-4952-82d0-b56736f727c9",
   "metadata": {},
   "source": [
    "The Dataset is transposing some comments to the class column, for an unknown reason to me. I decided to delete these cases, so they do not bother me going further from here."
   ]
  },
  {
   "cell_type": "code",
   "execution_count": 38,
   "id": "663d1094-f0ad-4ccc-99d2-d7950d3005ae",
   "metadata": {},
   "outputs": [
    {
     "name": "stdout",
     "output_type": "stream",
     "text": [
      "+--------------------+\n",
      "|               Class|\n",
      "+--------------------+\n",
      "| Growing up in th...|\n",
      "| This is a multif...|\n",
      "| When I heard of ...|\n",
      "| Bubbles makes pl...|\n",
      "|           Household|\n",
      "|               Books|\n",
      "| Our Sodamakers i...|\n",
      "| home. You can al...|\n",
      "| turn plain drink...|\n",
      "| The Sodamaker pl...|\n",
      "|           Over time|\n",
      "| In addition to t...|\n",
      "| Who better to te...|\n",
      "| You can be sure ...|\n",
      "| Almost everybody...|\n",
      "| In our business ...|\n",
      "|    What has been...|\n",
      "|         Electronics|\n",
      "|Clothing & Access...|\n",
      "| Combined with a ...|\n",
      "+--------------------+\n",
      "only showing top 20 rows\n",
      "\n"
     ]
    }
   ],
   "source": [
    "unique_classes = df.select(\"Class\").distinct()\n",
    "unique_classes.show()"
   ]
  },
  {
   "cell_type": "code",
   "execution_count": 40,
   "id": "78ad2001-bf09-4be0-8d9d-af4539824585",
   "metadata": {},
   "outputs": [
    {
     "name": "stdout",
     "output_type": "stream",
     "text": [
      "+--------------------+-----+\n",
      "|               Class|count|\n",
      "+--------------------+-----+\n",
      "| Growing up in th...|    2|\n",
      "| This is a multif...|    2|\n",
      "| When I heard of ...|    1|\n",
      "| Bubbles makes pl...|    1|\n",
      "|           Household|19313|\n",
      "|               Books|11820|\n",
      "| Our Sodamakers i...|    1|\n",
      "| home. You can al...|    1|\n",
      "| turn plain drink...|    1|\n",
      "| The Sodamaker pl...|    1|\n",
      "|           Over time|    1|\n",
      "| In addition to t...|    1|\n",
      "| Who better to te...|    2|\n",
      "| You can be sure ...|    1|\n",
      "| Almost everybody...|    1|\n",
      "| In our business ...|    3|\n",
      "|    What has been...|    3|\n",
      "|         Electronics|10621|\n",
      "|Clothing & Access...| 8671|\n",
      "| Combined with a ...|    3|\n",
      "+--------------------+-----+\n",
      "only showing top 20 rows\n",
      "\n"
     ]
    }
   ],
   "source": [
    "# Group by the 'Class' column and count of the occurrences\n",
    "class_counts = df.groupBy(\"Class\").count()\n",
    "class_counts.show()"
   ]
  },
  {
   "cell_type": "code",
   "execution_count": 42,
   "id": "c9f4a5a7-1ee9-472b-b2b6-9e22c03b8c12",
   "metadata": {},
   "outputs": [],
   "source": [
    "# I keep only rows with Household\", \"Books\", \"Electronics\", \"Clothing & Accessories as classes\n",
    "df = df.filter(df[\"Class\"].isin(\"Household\", \"Books\", \"Electronics\", \"Clothing & Accessories\"))"
   ]
  },
  {
   "cell_type": "code",
   "execution_count": 53,
   "id": "8fdee437-f654-4962-acc9-395dd068966b",
   "metadata": {},
   "outputs": [
    {
     "data": {
      "application/vnd.plotly.v1+json": {
       "config": {
        "plotlyServerURL": "https://plot.ly"
       },
       "data": [
        {
         "alignmentgroup": "True",
         "hovertemplate": "Class=%{x}<br>Count=%{text}<extra></extra>",
         "legendgroup": "Household",
         "marker": {
          "color": "#636efa",
          "pattern": {
           "shape": ""
          }
         },
         "name": "Household",
         "offsetgroup": "Household",
         "orientation": "v",
         "showlegend": true,
         "text": [
          19313
         ],
         "textposition": "outside",
         "type": "bar",
         "x": [
          "Household"
         ],
         "xaxis": "x",
         "y": [
          19313
         ],
         "yaxis": "y"
        },
        {
         "alignmentgroup": "True",
         "hovertemplate": "Class=%{x}<br>Count=%{text}<extra></extra>",
         "legendgroup": "Books",
         "marker": {
          "color": "#EF553B",
          "pattern": {
           "shape": ""
          }
         },
         "name": "Books",
         "offsetgroup": "Books",
         "orientation": "v",
         "showlegend": true,
         "text": [
          11820
         ],
         "textposition": "outside",
         "type": "bar",
         "x": [
          "Books"
         ],
         "xaxis": "x",
         "y": [
          11820
         ],
         "yaxis": "y"
        },
        {
         "alignmentgroup": "True",
         "hovertemplate": "Class=%{x}<br>Count=%{text}<extra></extra>",
         "legendgroup": "Electronics",
         "marker": {
          "color": "#00cc96",
          "pattern": {
           "shape": ""
          }
         },
         "name": "Electronics",
         "offsetgroup": "Electronics",
         "orientation": "v",
         "showlegend": true,
         "text": [
          10621
         ],
         "textposition": "outside",
         "type": "bar",
         "x": [
          "Electronics"
         ],
         "xaxis": "x",
         "y": [
          10621
         ],
         "yaxis": "y"
        },
        {
         "alignmentgroup": "True",
         "hovertemplate": "Class=%{x}<br>Count=%{text}<extra></extra>",
         "legendgroup": "Clothing & Accessories",
         "marker": {
          "color": "#ab63fa",
          "pattern": {
           "shape": ""
          }
         },
         "name": "Clothing & Accessories",
         "offsetgroup": "Clothing & Accessories",
         "orientation": "v",
         "showlegend": true,
         "text": [
          8671
         ],
         "textposition": "outside",
         "type": "bar",
         "x": [
          "Clothing & Accessories"
         ],
         "xaxis": "x",
         "y": [
          8671
         ],
         "yaxis": "y"
        }
       ],
       "layout": {
        "autosize": true,
        "barmode": "relative",
        "legend": {
         "title": {
          "text": "Class"
         },
         "tracegroupgap": 0
        },
        "template": {
         "data": {
          "bar": [
           {
            "error_x": {
             "color": "#f2f5fa"
            },
            "error_y": {
             "color": "#f2f5fa"
            },
            "marker": {
             "line": {
              "color": "rgb(17,17,17)",
              "width": 0.5
             },
             "pattern": {
              "fillmode": "overlay",
              "size": 10,
              "solidity": 0.2
             }
            },
            "type": "bar"
           }
          ],
          "barpolar": [
           {
            "marker": {
             "line": {
              "color": "rgb(17,17,17)",
              "width": 0.5
             },
             "pattern": {
              "fillmode": "overlay",
              "size": 10,
              "solidity": 0.2
             }
            },
            "type": "barpolar"
           }
          ],
          "carpet": [
           {
            "aaxis": {
             "endlinecolor": "#A2B1C6",
             "gridcolor": "#506784",
             "linecolor": "#506784",
             "minorgridcolor": "#506784",
             "startlinecolor": "#A2B1C6"
            },
            "baxis": {
             "endlinecolor": "#A2B1C6",
             "gridcolor": "#506784",
             "linecolor": "#506784",
             "minorgridcolor": "#506784",
             "startlinecolor": "#A2B1C6"
            },
            "type": "carpet"
           }
          ],
          "choropleth": [
           {
            "colorbar": {
             "outlinewidth": 0,
             "ticks": ""
            },
            "type": "choropleth"
           }
          ],
          "contour": [
           {
            "colorbar": {
             "outlinewidth": 0,
             "ticks": ""
            },
            "colorscale": [
             [
              0,
              "#0d0887"
             ],
             [
              0.1111111111111111,
              "#46039f"
             ],
             [
              0.2222222222222222,
              "#7201a8"
             ],
             [
              0.3333333333333333,
              "#9c179e"
             ],
             [
              0.4444444444444444,
              "#bd3786"
             ],
             [
              0.5555555555555556,
              "#d8576b"
             ],
             [
              0.6666666666666666,
              "#ed7953"
             ],
             [
              0.7777777777777778,
              "#fb9f3a"
             ],
             [
              0.8888888888888888,
              "#fdca26"
             ],
             [
              1,
              "#f0f921"
             ]
            ],
            "type": "contour"
           }
          ],
          "contourcarpet": [
           {
            "colorbar": {
             "outlinewidth": 0,
             "ticks": ""
            },
            "type": "contourcarpet"
           }
          ],
          "heatmap": [
           {
            "colorbar": {
             "outlinewidth": 0,
             "ticks": ""
            },
            "colorscale": [
             [
              0,
              "#0d0887"
             ],
             [
              0.1111111111111111,
              "#46039f"
             ],
             [
              0.2222222222222222,
              "#7201a8"
             ],
             [
              0.3333333333333333,
              "#9c179e"
             ],
             [
              0.4444444444444444,
              "#bd3786"
             ],
             [
              0.5555555555555556,
              "#d8576b"
             ],
             [
              0.6666666666666666,
              "#ed7953"
             ],
             [
              0.7777777777777778,
              "#fb9f3a"
             ],
             [
              0.8888888888888888,
              "#fdca26"
             ],
             [
              1,
              "#f0f921"
             ]
            ],
            "type": "heatmap"
           }
          ],
          "heatmapgl": [
           {
            "colorbar": {
             "outlinewidth": 0,
             "ticks": ""
            },
            "colorscale": [
             [
              0,
              "#0d0887"
             ],
             [
              0.1111111111111111,
              "#46039f"
             ],
             [
              0.2222222222222222,
              "#7201a8"
             ],
             [
              0.3333333333333333,
              "#9c179e"
             ],
             [
              0.4444444444444444,
              "#bd3786"
             ],
             [
              0.5555555555555556,
              "#d8576b"
             ],
             [
              0.6666666666666666,
              "#ed7953"
             ],
             [
              0.7777777777777778,
              "#fb9f3a"
             ],
             [
              0.8888888888888888,
              "#fdca26"
             ],
             [
              1,
              "#f0f921"
             ]
            ],
            "type": "heatmapgl"
           }
          ],
          "histogram": [
           {
            "marker": {
             "pattern": {
              "fillmode": "overlay",
              "size": 10,
              "solidity": 0.2
             }
            },
            "type": "histogram"
           }
          ],
          "histogram2d": [
           {
            "colorbar": {
             "outlinewidth": 0,
             "ticks": ""
            },
            "colorscale": [
             [
              0,
              "#0d0887"
             ],
             [
              0.1111111111111111,
              "#46039f"
             ],
             [
              0.2222222222222222,
              "#7201a8"
             ],
             [
              0.3333333333333333,
              "#9c179e"
             ],
             [
              0.4444444444444444,
              "#bd3786"
             ],
             [
              0.5555555555555556,
              "#d8576b"
             ],
             [
              0.6666666666666666,
              "#ed7953"
             ],
             [
              0.7777777777777778,
              "#fb9f3a"
             ],
             [
              0.8888888888888888,
              "#fdca26"
             ],
             [
              1,
              "#f0f921"
             ]
            ],
            "type": "histogram2d"
           }
          ],
          "histogram2dcontour": [
           {
            "colorbar": {
             "outlinewidth": 0,
             "ticks": ""
            },
            "colorscale": [
             [
              0,
              "#0d0887"
             ],
             [
              0.1111111111111111,
              "#46039f"
             ],
             [
              0.2222222222222222,
              "#7201a8"
             ],
             [
              0.3333333333333333,
              "#9c179e"
             ],
             [
              0.4444444444444444,
              "#bd3786"
             ],
             [
              0.5555555555555556,
              "#d8576b"
             ],
             [
              0.6666666666666666,
              "#ed7953"
             ],
             [
              0.7777777777777778,
              "#fb9f3a"
             ],
             [
              0.8888888888888888,
              "#fdca26"
             ],
             [
              1,
              "#f0f921"
             ]
            ],
            "type": "histogram2dcontour"
           }
          ],
          "mesh3d": [
           {
            "colorbar": {
             "outlinewidth": 0,
             "ticks": ""
            },
            "type": "mesh3d"
           }
          ],
          "parcoords": [
           {
            "line": {
             "colorbar": {
              "outlinewidth": 0,
              "ticks": ""
             }
            },
            "type": "parcoords"
           }
          ],
          "pie": [
           {
            "automargin": true,
            "type": "pie"
           }
          ],
          "scatter": [
           {
            "marker": {
             "line": {
              "color": "#283442"
             }
            },
            "type": "scatter"
           }
          ],
          "scatter3d": [
           {
            "line": {
             "colorbar": {
              "outlinewidth": 0,
              "ticks": ""
             }
            },
            "marker": {
             "colorbar": {
              "outlinewidth": 0,
              "ticks": ""
             }
            },
            "type": "scatter3d"
           }
          ],
          "scattercarpet": [
           {
            "marker": {
             "colorbar": {
              "outlinewidth": 0,
              "ticks": ""
             }
            },
            "type": "scattercarpet"
           }
          ],
          "scattergeo": [
           {
            "marker": {
             "colorbar": {
              "outlinewidth": 0,
              "ticks": ""
             }
            },
            "type": "scattergeo"
           }
          ],
          "scattergl": [
           {
            "marker": {
             "line": {
              "color": "#283442"
             }
            },
            "type": "scattergl"
           }
          ],
          "scattermapbox": [
           {
            "marker": {
             "colorbar": {
              "outlinewidth": 0,
              "ticks": ""
             }
            },
            "type": "scattermapbox"
           }
          ],
          "scatterpolar": [
           {
            "marker": {
             "colorbar": {
              "outlinewidth": 0,
              "ticks": ""
             }
            },
            "type": "scatterpolar"
           }
          ],
          "scatterpolargl": [
           {
            "marker": {
             "colorbar": {
              "outlinewidth": 0,
              "ticks": ""
             }
            },
            "type": "scatterpolargl"
           }
          ],
          "scatterternary": [
           {
            "marker": {
             "colorbar": {
              "outlinewidth": 0,
              "ticks": ""
             }
            },
            "type": "scatterternary"
           }
          ],
          "surface": [
           {
            "colorbar": {
             "outlinewidth": 0,
             "ticks": ""
            },
            "colorscale": [
             [
              0,
              "#0d0887"
             ],
             [
              0.1111111111111111,
              "#46039f"
             ],
             [
              0.2222222222222222,
              "#7201a8"
             ],
             [
              0.3333333333333333,
              "#9c179e"
             ],
             [
              0.4444444444444444,
              "#bd3786"
             ],
             [
              0.5555555555555556,
              "#d8576b"
             ],
             [
              0.6666666666666666,
              "#ed7953"
             ],
             [
              0.7777777777777778,
              "#fb9f3a"
             ],
             [
              0.8888888888888888,
              "#fdca26"
             ],
             [
              1,
              "#f0f921"
             ]
            ],
            "type": "surface"
           }
          ],
          "table": [
           {
            "cells": {
             "fill": {
              "color": "#506784"
             },
             "line": {
              "color": "rgb(17,17,17)"
             }
            },
            "header": {
             "fill": {
              "color": "#2a3f5f"
             },
             "line": {
              "color": "rgb(17,17,17)"
             }
            },
            "type": "table"
           }
          ]
         },
         "layout": {
          "annotationdefaults": {
           "arrowcolor": "#f2f5fa",
           "arrowhead": 0,
           "arrowwidth": 1
          },
          "autotypenumbers": "strict",
          "coloraxis": {
           "colorbar": {
            "outlinewidth": 0,
            "ticks": ""
           }
          },
          "colorscale": {
           "diverging": [
            [
             0,
             "#8e0152"
            ],
            [
             0.1,
             "#c51b7d"
            ],
            [
             0.2,
             "#de77ae"
            ],
            [
             0.3,
             "#f1b6da"
            ],
            [
             0.4,
             "#fde0ef"
            ],
            [
             0.5,
             "#f7f7f7"
            ],
            [
             0.6,
             "#e6f5d0"
            ],
            [
             0.7,
             "#b8e186"
            ],
            [
             0.8,
             "#7fbc41"
            ],
            [
             0.9,
             "#4d9221"
            ],
            [
             1,
             "#276419"
            ]
           ],
           "sequential": [
            [
             0,
             "#0d0887"
            ],
            [
             0.1111111111111111,
             "#46039f"
            ],
            [
             0.2222222222222222,
             "#7201a8"
            ],
            [
             0.3333333333333333,
             "#9c179e"
            ],
            [
             0.4444444444444444,
             "#bd3786"
            ],
            [
             0.5555555555555556,
             "#d8576b"
            ],
            [
             0.6666666666666666,
             "#ed7953"
            ],
            [
             0.7777777777777778,
             "#fb9f3a"
            ],
            [
             0.8888888888888888,
             "#fdca26"
            ],
            [
             1,
             "#f0f921"
            ]
           ],
           "sequentialminus": [
            [
             0,
             "#0d0887"
            ],
            [
             0.1111111111111111,
             "#46039f"
            ],
            [
             0.2222222222222222,
             "#7201a8"
            ],
            [
             0.3333333333333333,
             "#9c179e"
            ],
            [
             0.4444444444444444,
             "#bd3786"
            ],
            [
             0.5555555555555556,
             "#d8576b"
            ],
            [
             0.6666666666666666,
             "#ed7953"
            ],
            [
             0.7777777777777778,
             "#fb9f3a"
            ],
            [
             0.8888888888888888,
             "#fdca26"
            ],
            [
             1,
             "#f0f921"
            ]
           ]
          },
          "colorway": [
           "#636efa",
           "#EF553B",
           "#00cc96",
           "#ab63fa",
           "#FFA15A",
           "#19d3f3",
           "#FF6692",
           "#B6E880",
           "#FF97FF",
           "#FECB52"
          ],
          "font": {
           "color": "#f2f5fa"
          },
          "geo": {
           "bgcolor": "rgb(17,17,17)",
           "lakecolor": "rgb(17,17,17)",
           "landcolor": "rgb(17,17,17)",
           "showlakes": true,
           "showland": true,
           "subunitcolor": "#506784"
          },
          "hoverlabel": {
           "align": "left"
          },
          "hovermode": "closest",
          "mapbox": {
           "style": "dark"
          },
          "paper_bgcolor": "rgb(17,17,17)",
          "plot_bgcolor": "rgb(17,17,17)",
          "polar": {
           "angularaxis": {
            "gridcolor": "#506784",
            "linecolor": "#506784",
            "ticks": ""
           },
           "bgcolor": "rgb(17,17,17)",
           "radialaxis": {
            "gridcolor": "#506784",
            "linecolor": "#506784",
            "ticks": ""
           }
          },
          "scene": {
           "xaxis": {
            "backgroundcolor": "rgb(17,17,17)",
            "gridcolor": "#506784",
            "gridwidth": 2,
            "linecolor": "#506784",
            "showbackground": true,
            "ticks": "",
            "zerolinecolor": "#C8D4E3"
           },
           "yaxis": {
            "backgroundcolor": "rgb(17,17,17)",
            "gridcolor": "#506784",
            "gridwidth": 2,
            "linecolor": "#506784",
            "showbackground": true,
            "ticks": "",
            "zerolinecolor": "#C8D4E3"
           },
           "zaxis": {
            "backgroundcolor": "rgb(17,17,17)",
            "gridcolor": "#506784",
            "gridwidth": 2,
            "linecolor": "#506784",
            "showbackground": true,
            "ticks": "",
            "zerolinecolor": "#C8D4E3"
           }
          },
          "shapedefaults": {
           "line": {
            "color": "#f2f5fa"
           }
          },
          "sliderdefaults": {
           "bgcolor": "#C8D4E3",
           "bordercolor": "rgb(17,17,17)",
           "borderwidth": 1,
           "tickwidth": 0
          },
          "ternary": {
           "aaxis": {
            "gridcolor": "#506784",
            "linecolor": "#506784",
            "ticks": ""
           },
           "baxis": {
            "gridcolor": "#506784",
            "linecolor": "#506784",
            "ticks": ""
           },
           "bgcolor": "rgb(17,17,17)",
           "caxis": {
            "gridcolor": "#506784",
            "linecolor": "#506784",
            "ticks": ""
           }
          },
          "title": {
           "x": 0.05
          },
          "updatemenudefaults": {
           "bgcolor": "#506784",
           "borderwidth": 0
          },
          "xaxis": {
           "automargin": true,
           "gridcolor": "#283442",
           "linecolor": "#506784",
           "ticks": "",
           "title": {
            "standoff": 15
           },
           "zerolinecolor": "#283442",
           "zerolinewidth": 2
          },
          "yaxis": {
           "automargin": true,
           "gridcolor": "#283442",
           "linecolor": "#506784",
           "ticks": "",
           "title": {
            "standoff": 15
           },
           "zerolinecolor": "#283442",
           "zerolinewidth": 2
          }
         }
        },
        "title": {
         "text": "Count of Instances per Class"
        },
        "xaxis": {
         "anchor": "y",
         "autorange": true,
         "categoryarray": [
          "Household",
          "Books",
          "Electronics",
          "Clothing & Accessories"
         ],
         "categoryorder": "array",
         "domain": [
          0,
          1
         ],
         "range": [
          -0.5,
          3.5
         ],
         "title": {
          "text": "Class"
         },
         "type": "category"
        },
        "yaxis": {
         "anchor": "x",
         "domain": [
          0,
          1
         ],
         "range": [
          0,
          25000
         ],
         "title": {
          "text": "Count"
         },
         "type": "linear"
        }
       }
      },
      "image/png": "[encoded data removed]",
      "text/html": [
       "<div>                            <div id=\"55cf99e9-6517-4a18-aaf4-db6917961c32\" class=\"plotly-graph-div\" style=\"height:600px; width:100%;\"></div>            <script type=\"text/javascript\">                require([\"plotly\"], function(Plotly) {                    window.PLOTLYENV=window.PLOTLYENV || {};                                    if (document.getElementById(\"55cf99e9-6517-4a18-aaf4-db6917961c32\")) {                    Plotly.newPlot(                        \"55cf99e9-6517-4a18-aaf4-db6917961c32\",                        [{\"alignmentgroup\":\"True\",\"hovertemplate\":\"Class=%{x}\\u003cbr\\u003eCount=%{text}\\u003cextra\\u003e\\u003c\\u002fextra\\u003e\",\"legendgroup\":\"Household\",\"marker\":{\"color\":\"#636efa\",\"pattern\":{\"shape\":\"\"}},\"name\":\"Household\",\"offsetgroup\":\"Household\",\"orientation\":\"v\",\"showlegend\":true,\"text\":[19313.0],\"textposition\":\"outside\",\"x\":[\"Household\"],\"xaxis\":\"x\",\"y\":[19313],\"yaxis\":\"y\",\"type\":\"bar\"},{\"alignmentgroup\":\"True\",\"hovertemplate\":\"Class=%{x}\\u003cbr\\u003eCount=%{text}\\u003cextra\\u003e\\u003c\\u002fextra\\u003e\",\"legendgroup\":\"Books\",\"marker\":{\"color\":\"#EF553B\",\"pattern\":{\"shape\":\"\"}},\"name\":\"Books\",\"offsetgroup\":\"Books\",\"orientation\":\"v\",\"showlegend\":true,\"text\":[11820.0],\"textposition\":\"outside\",\"x\":[\"Books\"],\"xaxis\":\"x\",\"y\":[11820],\"yaxis\":\"y\",\"type\":\"bar\"},{\"alignmentgroup\":\"True\",\"hovertemplate\":\"Class=%{x}\\u003cbr\\u003eCount=%{text}\\u003cextra\\u003e\\u003c\\u002fextra\\u003e\",\"legendgroup\":\"Electronics\",\"marker\":{\"color\":\"#00cc96\",\"pattern\":{\"shape\":\"\"}},\"name\":\"Electronics\",\"offsetgroup\":\"Electronics\",\"orientation\":\"v\",\"showlegend\":true,\"text\":[10621.0],\"textposition\":\"outside\",\"x\":[\"Electronics\"],\"xaxis\":\"x\",\"y\":[10621],\"yaxis\":\"y\",\"type\":\"bar\"},{\"alignmentgroup\":\"True\",\"hovertemplate\":\"Class=%{x}\\u003cbr\\u003eCount=%{text}\\u003cextra\\u003e\\u003c\\u002fextra\\u003e\",\"legendgroup\":\"Clothing & Accessories\",\"marker\":{\"color\":\"#ab63fa\",\"pattern\":{\"shape\":\"\"}},\"name\":\"Clothing & Accessories\",\"offsetgroup\":\"Clothing & Accessories\",\"orientation\":\"v\",\"showlegend\":true,\"text\":[8671.0],\"textposition\":\"outside\",\"x\":[\"Clothing & Accessories\"],\"xaxis\":\"x\",\"y\":[8671],\"yaxis\":\"y\",\"type\":\"bar\"}],                        {\"template\":{\"data\":{\"barpolar\":[{\"marker\":{\"line\":{\"color\":\"rgb(17,17,17)\",\"width\":0.5},\"pattern\":{\"fillmode\":\"overlay\",\"size\":10,\"solidity\":0.2}},\"type\":\"barpolar\"}],\"bar\":[{\"error_x\":{\"color\":\"#f2f5fa\"},\"error_y\":{\"color\":\"#f2f5fa\"},\"marker\":{\"line\":{\"color\":\"rgb(17,17,17)\",\"width\":0.5},\"pattern\":{\"fillmode\":\"overlay\",\"size\":10,\"solidity\":0.2}},\"type\":\"bar\"}],\"carpet\":[{\"aaxis\":{\"endlinecolor\":\"#A2B1C6\",\"gridcolor\":\"#506784\",\"linecolor\":\"#506784\",\"minorgridcolor\":\"#506784\",\"startlinecolor\":\"#A2B1C6\"},\"baxis\":{\"endlinecolor\":\"#A2B1C6\",\"gridcolor\":\"#506784\",\"linecolor\":\"#506784\",\"minorgridcolor\":\"#506784\",\"startlinecolor\":\"#A2B1C6\"},\"type\":\"carpet\"}],\"choropleth\":[{\"colorbar\":{\"outlinewidth\":0,\"ticks\":\"\"},\"type\":\"choropleth\"}],\"contourcarpet\":[{\"colorbar\":{\"outlinewidth\":0,\"ticks\":\"\"},\"type\":\"contourcarpet\"}],\"contour\":[{\"colorbar\":{\"outlinewidth\":0,\"ticks\":\"\"},\"colorscale\":[[0.0,\"#0d0887\"],[0.1111111111111111,\"#46039f\"],[0.2222222222222222,\"#7201a8\"],[0.3333333333333333,\"#9c179e\"],[0.4444444444444444,\"#bd3786\"],[0.5555555555555556,\"#d8576b\"],[0.6666666666666666,\"#ed7953\"],[0.7777777777777778,\"#fb9f3a\"],[0.8888888888888888,\"#fdca26\"],[1.0,\"#f0f921\"]],\"type\":\"contour\"}],\"heatmapgl\":[{\"colorbar\":{\"outlinewidth\":0,\"ticks\":\"\"},\"colorscale\":[[0.0,\"#0d0887\"],[0.1111111111111111,\"#46039f\"],[0.2222222222222222,\"#7201a8\"],[0.3333333333333333,\"#9c179e\"],[0.4444444444444444,\"#bd3786\"],[0.5555555555555556,\"#d8576b\"],[0.6666666666666666,\"#ed7953\"],[0.7777777777777778,\"#fb9f3a\"],[0.8888888888888888,\"#fdca26\"],[1.0,\"#f0f921\"]],\"type\":\"heatmapgl\"}],\"heatmap\":[{\"colorbar\":{\"outlinewidth\":0,\"ticks\":\"\"},\"colorscale\":[[0.0,\"#0d0887\"],[0.1111111111111111,\"#46039f\"],[0.2222222222222222,\"#7201a8\"],[0.3333333333333333,\"#9c179e\"],[0.4444444444444444,\"#bd3786\"],[0.5555555555555556,\"#d8576b\"],[0.6666666666666666,\"#ed7953\"],[0.7777777777777778,\"#fb9f3a\"],[0.8888888888888888,\"#fdca26\"],[1.0,\"#f0f921\"]],\"type\":\"heatmap\"}],\"histogram2dcontour\":[{\"colorbar\":{\"outlinewidth\":0,\"ticks\":\"\"},\"colorscale\":[[0.0,\"#0d0887\"],[0.1111111111111111,\"#46039f\"],[0.2222222222222222,\"#7201a8\"],[0.3333333333333333,\"#9c179e\"],[0.4444444444444444,\"#bd3786\"],[0.5555555555555556,\"#d8576b\"],[0.6666666666666666,\"#ed7953\"],[0.7777777777777778,\"#fb9f3a\"],[0.8888888888888888,\"#fdca26\"],[1.0,\"#f0f921\"]],\"type\":\"histogram2dcontour\"}],\"histogram2d\":[{\"colorbar\":{\"outlinewidth\":0,\"ticks\":\"\"},\"colorscale\":[[0.0,\"#0d0887\"],[0.1111111111111111,\"#46039f\"],[0.2222222222222222,\"#7201a8\"],[0.3333333333333333,\"#9c179e\"],[0.4444444444444444,\"#bd3786\"],[0.5555555555555556,\"#d8576b\"],[0.6666666666666666,\"#ed7953\"],[0.7777777777777778,\"#fb9f3a\"],[0.8888888888888888,\"#fdca26\"],[1.0,\"#f0f921\"]],\"type\":\"histogram2d\"}],\"histogram\":[{\"marker\":{\"pattern\":{\"fillmode\":\"overlay\",\"size\":10,\"solidity\":0.2}},\"type\":\"histogram\"}],\"mesh3d\":[{\"colorbar\":{\"outlinewidth\":0,\"ticks\":\"\"},\"type\":\"mesh3d\"}],\"parcoords\":[{\"line\":{\"colorbar\":{\"outlinewidth\":0,\"ticks\":\"\"}},\"type\":\"parcoords\"}],\"pie\":[{\"automargin\":true,\"type\":\"pie\"}],\"scatter3d\":[{\"line\":{\"colorbar\":{\"outlinewidth\":0,\"ticks\":\"\"}},\"marker\":{\"colorbar\":{\"outlinewidth\":0,\"ticks\":\"\"}},\"type\":\"scatter3d\"}],\"scattercarpet\":[{\"marker\":{\"colorbar\":{\"outlinewidth\":0,\"ticks\":\"\"}},\"type\":\"scattercarpet\"}],\"scattergeo\":[{\"marker\":{\"colorbar\":{\"outlinewidth\":0,\"ticks\":\"\"}},\"type\":\"scattergeo\"}],\"scattergl\":[{\"marker\":{\"line\":{\"color\":\"#283442\"}},\"type\":\"scattergl\"}],\"scattermapbox\":[{\"marker\":{\"colorbar\":{\"outlinewidth\":0,\"ticks\":\"\"}},\"type\":\"scattermapbox\"}],\"scatterpolargl\":[{\"marker\":{\"colorbar\":{\"outlinewidth\":0,\"ticks\":\"\"}},\"type\":\"scatterpolargl\"}],\"scatterpolar\":[{\"marker\":{\"colorbar\":{\"outlinewidth\":0,\"ticks\":\"\"}},\"type\":\"scatterpolar\"}],\"scatter\":[{\"marker\":{\"line\":{\"color\":\"#283442\"}},\"type\":\"scatter\"}],\"scatterternary\":[{\"marker\":{\"colorbar\":{\"outlinewidth\":0,\"ticks\":\"\"}},\"type\":\"scatterternary\"}],\"surface\":[{\"colorbar\":{\"outlinewidth\":0,\"ticks\":\"\"},\"colorscale\":[[0.0,\"#0d0887\"],[0.1111111111111111,\"#46039f\"],[0.2222222222222222,\"#7201a8\"],[0.3333333333333333,\"#9c179e\"],[0.4444444444444444,\"#bd3786\"],[0.5555555555555556,\"#d8576b\"],[0.6666666666666666,\"#ed7953\"],[0.7777777777777778,\"#fb9f3a\"],[0.8888888888888888,\"#fdca26\"],[1.0,\"#f0f921\"]],\"type\":\"surface\"}],\"table\":[{\"cells\":{\"fill\":{\"color\":\"#506784\"},\"line\":{\"color\":\"rgb(17,17,17)\"}},\"header\":{\"fill\":{\"color\":\"#2a3f5f\"},\"line\":{\"color\":\"rgb(17,17,17)\"}},\"type\":\"table\"}]},\"layout\":{\"annotationdefaults\":{\"arrowcolor\":\"#f2f5fa\",\"arrowhead\":0,\"arrowwidth\":1},\"autotypenumbers\":\"strict\",\"coloraxis\":{\"colorbar\":{\"outlinewidth\":0,\"ticks\":\"\"}},\"colorscale\":{\"diverging\":[[0,\"#8e0152\"],[0.1,\"#c51b7d\"],[0.2,\"#de77ae\"],[0.3,\"#f1b6da\"],[0.4,\"#fde0ef\"],[0.5,\"#f7f7f7\"],[0.6,\"#e6f5d0\"],[0.7,\"#b8e186\"],[0.8,\"#7fbc41\"],[0.9,\"#4d9221\"],[1,\"#276419\"]],\"sequential\":[[0.0,\"#0d0887\"],[0.1111111111111111,\"#46039f\"],[0.2222222222222222,\"#7201a8\"],[0.3333333333333333,\"#9c179e\"],[0.4444444444444444,\"#bd3786\"],[0.5555555555555556,\"#d8576b\"],[0.6666666666666666,\"#ed7953\"],[0.7777777777777778,\"#fb9f3a\"],[0.8888888888888888,\"#fdca26\"],[1.0,\"#f0f921\"]],\"sequentialminus\":[[0.0,\"#0d0887\"],[0.1111111111111111,\"#46039f\"],[0.2222222222222222,\"#7201a8\"],[0.3333333333333333,\"#9c179e\"],[0.4444444444444444,\"#bd3786\"],[0.5555555555555556,\"#d8576b\"],[0.6666666666666666,\"#ed7953\"],[0.7777777777777778,\"#fb9f3a\"],[0.8888888888888888,\"#fdca26\"],[1.0,\"#f0f921\"]]},\"colorway\":[\"#636efa\",\"#EF553B\",\"#00cc96\",\"#ab63fa\",\"#FFA15A\",\"#19d3f3\",\"#FF6692\",\"#B6E880\",\"#FF97FF\",\"#FECB52\"],\"font\":{\"color\":\"#f2f5fa\"},\"geo\":{\"bgcolor\":\"rgb(17,17,17)\",\"lakecolor\":\"rgb(17,17,17)\",\"landcolor\":\"rgb(17,17,17)\",\"showlakes\":true,\"showland\":true,\"subunitcolor\":\"#506784\"},\"hoverlabel\":{\"align\":\"left\"},\"hovermode\":\"closest\",\"mapbox\":{\"style\":\"dark\"},\"paper_bgcolor\":\"rgb(17,17,17)\",\"plot_bgcolor\":\"rgb(17,17,17)\",\"polar\":{\"angularaxis\":{\"gridcolor\":\"#506784\",\"linecolor\":\"#506784\",\"ticks\":\"\"},\"bgcolor\":\"rgb(17,17,17)\",\"radialaxis\":{\"gridcolor\":\"#506784\",\"linecolor\":\"#506784\",\"ticks\":\"\"}},\"scene\":{\"xaxis\":{\"backgroundcolor\":\"rgb(17,17,17)\",\"gridcolor\":\"#506784\",\"gridwidth\":2,\"linecolor\":\"#506784\",\"showbackground\":true,\"ticks\":\"\",\"zerolinecolor\":\"#C8D4E3\"},\"yaxis\":{\"backgroundcolor\":\"rgb(17,17,17)\",\"gridcolor\":\"#506784\",\"gridwidth\":2,\"linecolor\":\"#506784\",\"showbackground\":true,\"ticks\":\"\",\"zerolinecolor\":\"#C8D4E3\"},\"zaxis\":{\"backgroundcolor\":\"rgb(17,17,17)\",\"gridcolor\":\"#506784\",\"gridwidth\":2,\"linecolor\":\"#506784\",\"showbackground\":true,\"ticks\":\"\",\"zerolinecolor\":\"#C8D4E3\"}},\"shapedefaults\":{\"line\":{\"color\":\"#f2f5fa\"}},\"sliderdefaults\":{\"bgcolor\":\"#C8D4E3\",\"bordercolor\":\"rgb(17,17,17)\",\"borderwidth\":1,\"tickwidth\":0},\"ternary\":{\"aaxis\":{\"gridcolor\":\"#506784\",\"linecolor\":\"#506784\",\"ticks\":\"\"},\"baxis\":{\"gridcolor\":\"#506784\",\"linecolor\":\"#506784\",\"ticks\":\"\"},\"bgcolor\":\"rgb(17,17,17)\",\"caxis\":{\"gridcolor\":\"#506784\",\"linecolor\":\"#506784\",\"ticks\":\"\"}},\"title\":{\"x\":0.05},\"updatemenudefaults\":{\"bgcolor\":\"#506784\",\"borderwidth\":0},\"xaxis\":{\"automargin\":true,\"gridcolor\":\"#283442\",\"linecolor\":\"#506784\",\"ticks\":\"\",\"title\":{\"standoff\":15},\"zerolinecolor\":\"#283442\",\"zerolinewidth\":2},\"yaxis\":{\"automargin\":true,\"gridcolor\":\"#283442\",\"linecolor\":\"#506784\",\"ticks\":\"\",\"title\":{\"standoff\":15},\"zerolinecolor\":\"#283442\",\"zerolinewidth\":2}}},\"xaxis\":{\"anchor\":\"y\",\"domain\":[0.0,1.0],\"title\":{\"text\":\"Class\"},\"categoryorder\":\"array\",\"categoryarray\":[\"Household\",\"Books\",\"Electronics\",\"Clothing & Accessories\"]},\"yaxis\":{\"anchor\":\"x\",\"domain\":[0.0,1.0],\"title\":{\"text\":\"Count\"},\"range\":[0,25000]},\"legend\":{\"title\":{\"text\":\"Class\"},\"tracegroupgap\":0},\"title\":{\"text\":\"Count of Instances per Class\"},\"barmode\":\"relative\",\"height\":600},                        {\"responsive\": true}                    ).then(function(){\n",
       "                            \n",
       "var gd = document.getElementById('55cf99e9-6517-4a18-aaf4-db6917961c32');\n",
       "var x = new MutationObserver(function (mutations, observer) {{\n",
       "        var display = window.getComputedStyle(gd).display;\n",
       "        if (!display || display === 'none') {{\n",
       "            console.log([gd, 'removed!']);\n",
       "            Plotly.purge(gd);\n",
       "            observer.disconnect();\n",
       "        }}\n",
       "}});\n",
       "\n",
       "// Listen for the removal of the full notebook cells\n",
       "var notebookContainer = gd.closest('#notebook-container');\n",
       "if (notebookContainer) {{\n",
       "    x.observe(notebookContainer, {childList: true});\n",
       "}}\n",
       "\n",
       "// Listen for the clearing of the current output cell\n",
       "var outputEl = gd.closest('.output');\n",
       "if (outputEl) {{\n",
       "    x.observe(outputEl, {childList: true});\n",
       "}}\n",
       "\n",
       "                        })                };                });            </script>        </div>"
      ]
     },
     "metadata": {},
     "output_type": "display_data"
    }
   ],
   "source": [
    "# Group by 'Class' and count the instances\n",
    "class_counts = df.groupBy(\"Class\").count().toPandas()\n",
    "\n",
    "# Plotting \n",
    "fig = px.bar(class_counts, x='Class', y='count', text='count',\n",
    "             title=\"Count of Instances per Class\",\n",
    "             labels={'Class': 'Class', 'count': 'Count'},\n",
    "             color='Class')  \n",
    "fig.update_traces(textposition='outside')\n",
    "fig.update_layout(\n",
    "    template='plotly_dark',\n",
    "    xaxis_title=\"Class\",\n",
    "    yaxis_title=\"Count\",\n",
    "    yaxis=dict(range=[0, 25000]), \n",
    "    height=600  \n",
    ")\n",
    "fig.show()"
   ]
  },
  {
   "cell_type": "code",
   "execution_count": 55,
   "id": "a11651ac-3b4a-4940-821f-967af3006381",
   "metadata": {},
   "outputs": [
    {
     "name": "stdout",
     "output_type": "stream",
     "text": [
      "+--------------------+-------+\n",
      "|               Class|Comment|\n",
      "+--------------------+-------+\n",
      "|Clothing & Access...|   null|\n",
      "+--------------------+-------+\n",
      "\n"
     ]
    }
   ],
   "source": [
    "# There are null values thar are bothering when trying to tokenize\n",
    "df.filter(df['comment'].isNull()).show()"
   ]
  },
  {
   "cell_type": "code",
   "execution_count": 57,
   "id": "057e8363-f4ea-4a49-a569-919e82ed9607",
   "metadata": {},
   "outputs": [],
   "source": [
    "# Dropping rows with any null values and reassigning to df\n",
    "df = df.dropna()"
   ]
  },
  {
   "cell_type": "markdown",
   "id": "6f561bad-3300-4b22-aa7e-afae206524c8",
   "metadata": {},
   "source": [
    "### 3 - Feature Engineering"
   ]
  },
  {
   "cell_type": "code",
   "execution_count": 60,
   "id": "ccfc56e8-e45c-4102-954e-14b3289547a4",
   "metadata": {},
   "outputs": [
    {
     "name": "stdout",
     "output_type": "stream",
     "text": [
      "+---------+--------------------+------+\n",
      "|    Class|             Comment|length|\n",
      "+---------+--------------------+------+\n",
      "|Household|Paper Plane Desig...|  1338|\n",
      "|Household|SAF 'Floral' Fram...|   346|\n",
      "|Household|SAF 'UV Textured ...|  1316|\n",
      "|Household|SAF Flower Print ...|  1091|\n",
      "|Household|Incredible Gifts ...|   989|\n",
      "|Household|Pitaara Box Roman...|  1745|\n",
      "|Household|\"Paper Plane Desi...|   192|\n",
      "|Household|Pitaara Box Roman...|  1745|\n",
      "|Household|SAF 'Ganesh Moder...|  1169|\n",
      "|Household|Paintings Villa U...|   616|\n",
      "|Household|Painting Mantra A...|   400|\n",
      "|Household|\"Paper Plane Desi...|   192|\n",
      "|Household|Pitaara Box Roman...|  1745|\n",
      "|Household|Painting Mantra '...|   609|\n",
      "|Household|Indianara Motivat...|   102|\n",
      "|Household|Tamatina Fabric R...|  1053|\n",
      "|Household|SAF Flower Print ...|  1091|\n",
      "|Household|Posterhouzz Comic...|   343|\n",
      "|Household|\"ART DIOR | Set o...|   480|\n",
      "|Household|\"ART DIOR | Danci...|   438|\n",
      "+---------+--------------------+------+\n",
      "only showing top 20 rows\n",
      "\n"
     ]
    }
   ],
   "source": [
    "df = df.withColumn('length', length(df['Comment']))\n",
    "df.show()"
   ]
  },
  {
   "cell_type": "code",
   "execution_count": 62,
   "id": "a4fc8740-e49f-4e67-bc9d-ba0f5e461fdb",
   "metadata": {},
   "outputs": [],
   "source": [
    "# StringIndexes takes the column Class and converts the categories to numeric, so at the end, it is going to have values ranging from 0 to 3.\n",
    "numeric_class = StringIndexer(inputCol='Class', outputCol='label')\n",
    "\n",
    "# Tokenizer takes the column Comment, and transform the data in this way, for example, lets say that we have \"I went running to Atlanta\", after\n",
    "# this transformation I will have [i, went, running, to, atlanta].\n",
    "tokenizer = Tokenizer(inputCol='Comment', outputCol='token_text')\n",
    "\n",
    "# StopWordsRemover gets rid of the most common words, in this case, from the english language. Taken the example from before, the result would be\n",
    "# [went, running, atlanta]\n",
    "stopword_remover = StopWordsRemover(inputCol='token_text', outputCol='token_stop')\n",
    "\n",
    "#The CountVectorizer counts how many times a word appear in a document. For example, I have \"i, am, manuel\", and \"i, am ,argentinian\", this would be represented\n",
    "# as (1,2,3,4). Lets say I have \"I I Manuel\", this would be (2,0,1,0) ---- Note: words between , and lowercase because it was previously tokenized,\n",
    "count_vectorizer = CountVectorizer(inputCol='token_stop', outputCol='count_vec')\n",
    "\n",
    "# IDF measures how important a word is in a document relative to a collection of documents. It combines two metrics:TF (Term Frequency) that counts how often \n",
    "# a word appears in a document and IDF (Inverse Document Frequency) which reduces the weight of common words across many documents.\n",
    "idf = IDF(inputCol='count_vec', outputCol='tf-idf')\n",
    "\n",
    "#VectorAssembler so I created a vector out of lenght and tf-idf\n",
    "workedout_df = VectorAssembler(inputCols=['length', 'tf-idf'], outputCol='features')"
   ]
  },
  {
   "cell_type": "code",
   "execution_count": 64,
   "id": "544dff5a-40c1-4bd1-820d-c891d0d93f14",
   "metadata": {},
   "outputs": [],
   "source": [
    "# A Pipeline is used to automate a series of transformations on the data. It combines multiple stages, where each stage is a \n",
    "# data transformation or modeling step.\n",
    "\n",
    "df_pipeline = Pipeline(stages=[numeric_class,\n",
    "                           tokenizer,\n",
    "                           stopword_remover,\n",
    "                           count_vectorizer,\n",
    "                           idf,\n",
    "                           workedout_df])"
   ]
  },
  {
   "cell_type": "code",
   "execution_count": 66,
   "id": "9faa2fff-ec7f-451a-85c2-ae0efdf2d0c1",
   "metadata": {},
   "outputs": [
    {
     "name": "stdout",
     "output_type": "stream",
     "text": [
      "+---------+--------------------+------+-----+--------------------+--------------------+--------------------+--------------------+--------------------+\n",
      "|    Class|             Comment|length|label|          token_text|          token_stop|           count_vec|              tf-idf|            features|\n",
      "+---------+--------------------+------+-----+--------------------+--------------------+--------------------+--------------------+--------------------+\n",
      "|Household|Paper Plane Desig...|  1338|  0.0|[paper, plane, de...|[paper, plane, de...|(168160,[1,3,5,6,...|(168160,[1,3,5,6,...|(168161,[0,2,4,6,...|\n",
      "|Household|SAF 'Floral' Fram...|   346|  0.0|[saf, 'floral', f...|[saf, 'floral', f...|(168160,[3,6,22,3...|(168160,[3,6,22,3...|(168161,[0,4,7,23...|\n",
      "|Household|SAF 'UV Textured ...|  1316|  0.0|[saf, 'uv, textur...|[saf, 'uv, textur...|(168160,[0,3,5,8,...|(168160,[0,3,5,8,...|(168161,[0,1,4,6,...|\n",
      "|Household|SAF Flower Print ...|  1091|  0.0|[saf, flower, pri...|[saf, flower, pri...|(168160,[0,3,5,8,...|(168160,[0,3,5,8,...|(168161,[0,1,4,6,...|\n",
      "|Household|Incredible Gifts ...|   989|  0.0|[incredible, gift...|[incredible, gift...|(168160,[0,2,3,6,...|(168160,[0,2,3,6,...|(168161,[0,1,3,4,...|\n",
      "|Household|Pitaara Box Roman...|  1745|  0.0|[pitaara, box, ro...|[pitaara, box, ro...|(168160,[0,3,15,2...|(168160,[0,3,15,2...|(168161,[0,1,4,16...|\n",
      "|Household|\"Paper Plane Desi...|   192|  0.0|[\"paper, plane, d...|[\"paper, plane, d...|(168160,[3,13,17,...|(168160,[3,13,17,...|(168161,[0,4,14,1...|\n",
      "|Household|Pitaara Box Roman...|  1745|  0.0|[pitaara, box, ro...|[pitaara, box, ro...|(168160,[0,3,15,2...|(168160,[0,3,15,2...|(168161,[0,1,4,16...|\n",
      "|Household|SAF 'Ganesh Moder...|  1169|  0.0|[saf, 'ganesh, mo...|[saf, 'ganesh, mo...|(168160,[0,3,5,8,...|(168160,[0,3,5,8,...|(168161,[0,1,4,6,...|\n",
      "|Household|Paintings Villa U...|   616|  0.0|[paintings, villa...|[paintings, villa...|(168160,[1,3,7,10...|(168160,[1,3,7,10...|(168161,[0,2,4,8,...|\n",
      "|Household|Painting Mantra A...|   400|  0.0|[painting, mantra...|[painting, mantra...|(168160,[0,1,3,5,...|(168160,[0,1,3,5,...|(168161,[0,1,2,4,...|\n",
      "|Household|\"Paper Plane Desi...|   192|  0.0|[\"paper, plane, d...|[\"paper, plane, d...|(168160,[3,13,17,...|(168160,[3,13,17,...|(168161,[0,4,14,1...|\n",
      "|Household|Pitaara Box Roman...|  1745|  0.0|[pitaara, box, ro...|[pitaara, box, ro...|(168160,[0,3,15,2...|(168160,[0,3,15,2...|(168161,[0,1,4,16...|\n",
      "|Household|Painting Mantra '...|   609|  0.0|[painting, mantra...|[painting, mantra...|(168160,[0,3,5,9,...|(168160,[0,3,5,9,...|(168161,[0,1,4,6,...|\n",
      "|Household|Indianara Motivat...|   102|  0.0|[indianara, motiv...|[indianara, motiv...|(168160,[3,5,82,1...|(168160,[3,5,82,1...|(168161,[0,4,6,83...|\n",
      "|Household|Tamatina Fabric R...|  1053|  0.0|[tamatina, fabric...|[tamatina, fabric...|(168160,[0,4,13,1...|(168160,[0,4,13,1...|(168161,[0,1,5,14...|\n",
      "|Household|SAF Flower Print ...|  1091|  0.0|[saf, flower, pri...|[saf, flower, pri...|(168160,[0,3,5,8,...|(168160,[0,3,5,8,...|(168161,[0,1,4,6,...|\n",
      "|Household|Posterhouzz Comic...|   343|  0.0|[posterhouzz, com...|[posterhouzz, com...|(168160,[15,41,65...|(168160,[15,41,65...|(168161,[0,16,42,...|\n",
      "|Household|\"ART DIOR | Set o...|   480|  0.0|[\"art, dior, |, s...|[\"art, dior, |, s...|(168160,[0,1,3,5,...|(168160,[0,1,3,5,...|(168161,[0,1,2,4,...|\n",
      "|Household|\"ART DIOR | Danci...|   438|  0.0|[\"art, dior, |, d...|[\"art, dior, |, d...|(168160,[0,3,65,1...|(168160,[0,3,65,1...|(168161,[0,1,4,66...|\n",
      "+---------+--------------------+------+-----+--------------------+--------------------+--------------------+--------------------+--------------------+\n",
      "only showing top 20 rows\n",
      "\n"
     ]
    }
   ],
   "source": [
    "final_df = df_pipeline.fit(df).transform(df)\n",
    "final_df.show()"
   ]
  },
  {
   "cell_type": "code",
   "execution_count": 70,
   "id": "6d26cd3d-1d6c-45e0-81e5-36f0279b8f32",
   "metadata": {},
   "outputs": [
    {
     "name": "stdout",
     "output_type": "stream",
     "text": [
      "+-----+--------------------+\n",
      "|label|            features|\n",
      "+-----+--------------------+\n",
      "|  0.0|(168161,[0,2,4,6,...|\n",
      "|  0.0|(168161,[0,4,7,23...|\n",
      "|  0.0|(168161,[0,1,4,6,...|\n",
      "|  0.0|(168161,[0,1,4,6,...|\n",
      "|  0.0|(168161,[0,1,3,4,...|\n",
      "|  0.0|(168161,[0,1,4,16...|\n",
      "|  0.0|(168161,[0,4,14,1...|\n",
      "|  0.0|(168161,[0,1,4,16...|\n",
      "|  0.0|(168161,[0,1,4,6,...|\n",
      "|  0.0|(168161,[0,2,4,8,...|\n",
      "|  0.0|(168161,[0,1,2,4,...|\n",
      "|  0.0|(168161,[0,4,14,1...|\n",
      "|  0.0|(168161,[0,1,4,16...|\n",
      "|  0.0|(168161,[0,1,4,6,...|\n",
      "|  0.0|(168161,[0,4,6,83...|\n",
      "|  0.0|(168161,[0,1,5,14...|\n",
      "|  0.0|(168161,[0,1,4,6,...|\n",
      "|  0.0|(168161,[0,16,42,...|\n",
      "|  0.0|(168161,[0,1,2,4,...|\n",
      "|  0.0|(168161,[0,1,4,66...|\n",
      "+-----+--------------------+\n",
      "only showing top 20 rows\n",
      "\n"
     ]
    }
   ],
   "source": [
    "final_df = df_pipeline.fit(df).transform(df).select('label', 'features')\n",
    "final_df.show()"
   ]
  },
  {
   "cell_type": "code",
   "execution_count": 72,
   "id": "3d2074d6-2b38-42f4-bd91-05d758b35e87",
   "metadata": {},
   "outputs": [],
   "source": [
    "train, test = final_df.randomSplit([0.75, 0.25])"
   ]
  },
  {
   "cell_type": "code",
   "execution_count": 74,
   "id": "a540795c-ef71-4a88-9668-46a29663ea9e",
   "metadata": {},
   "outputs": [],
   "source": [
    "classifier = NaiveBayes(featuresCol='features', labelCol='label', predictionCol='prediction')"
   ]
  },
  {
   "cell_type": "code",
   "execution_count": 93,
   "id": "fe7d5533-f8af-423d-96ea-59b2a80c8c26",
   "metadata": {},
   "outputs": [],
   "source": [
    "fitted_classifer = classifier.fit(train)"
   ]
  },
  {
   "cell_type": "code",
   "execution_count": 95,
   "id": "e4f5da23-e222-4f6f-abe3-4c3a5c763942",
   "metadata": {},
   "outputs": [
    {
     "name": "stdout",
     "output_type": "stream",
     "text": [
      "+-----+--------------------+--------------------+--------------------+----------+\n",
      "|label|            features|       rawPrediction|         probability|prediction|\n",
      "+-----+--------------------+--------------------+--------------------+----------+\n",
      "|  0.0|(168161,[0,1,2,3,...|[-43431.148365990...|   [1.0,0.0,0.0,0.0]|       0.0|\n",
      "|  0.0|(168161,[0,1,2,3,...|[-36459.386851354...|   [1.0,0.0,0.0,0.0]|       0.0|\n",
      "|  0.0|(168161,[0,1,2,3,...|[-11688.150458657...|   [1.0,0.0,0.0,0.0]|       0.0|\n",
      "|  0.0|(168161,[0,1,2,3,...|[-11688.150458657...|   [1.0,0.0,0.0,0.0]|       0.0|\n",
      "|  0.0|(168161,[0,1,2,3,...|[-11960.609345603...|   [1.0,0.0,0.0,0.0]|       0.0|\n",
      "|  0.0|(168161,[0,1,2,3,...|[-11851.763286808...|   [1.0,0.0,0.0,0.0]|       0.0|\n",
      "|  0.0|(168161,[0,1,2,3,...|[-12031.352576110...|   [1.0,0.0,0.0,0.0]|       0.0|\n",
      "|  0.0|(168161,[0,1,2,3,...|[-10030.929431632...|   [1.0,0.0,0.0,0.0]|       0.0|\n",
      "|  0.0|(168161,[0,1,2,3,...|[-51049.519398934...|   [1.0,0.0,0.0,0.0]|       0.0|\n",
      "|  0.0|(168161,[0,1,2,3,...|[-32912.456439886...|   [1.0,0.0,0.0,0.0]|       0.0|\n",
      "|  0.0|(168161,[0,1,2,3,...|[-19767.643831455...|   [1.0,0.0,0.0,0.0]|       0.0|\n",
      "|  0.0|(168161,[0,1,2,3,...|[-11374.054128923...|   [1.0,0.0,0.0,0.0]|       0.0|\n",
      "|  0.0|(168161,[0,1,2,3,...|[-8334.4062906743...|   [1.0,0.0,0.0,0.0]|       0.0|\n",
      "|  0.0|(168161,[0,1,2,3,...|[-10845.934760083...|   [1.0,0.0,0.0,0.0]|       0.0|\n",
      "|  0.0|(168161,[0,1,2,3,...|[-3057.8650441957...|[1.0,4.6971391669...|       0.0|\n",
      "|  0.0|(168161,[0,1,2,3,...|[-15495.854570740...|   [1.0,0.0,0.0,0.0]|       0.0|\n",
      "|  0.0|(168161,[0,1,2,3,...|[-15495.854570740...|   [1.0,0.0,0.0,0.0]|       0.0|\n",
      "|  0.0|(168161,[0,1,2,3,...|[-4319.7929296851...|[1.0,0.0,1.151321...|       0.0|\n",
      "|  0.0|(168161,[0,1,2,3,...|[-14869.971677138...|   [1.0,0.0,0.0,0.0]|       0.0|\n",
      "|  0.0|(168161,[0,1,2,3,...|[-10718.164534418...|[1.0,0.0,6.312263...|       0.0|\n",
      "+-----+--------------------+--------------------+--------------------+----------+\n",
      "only showing top 20 rows\n",
      "\n"
     ]
    }
   ],
   "source": [
    "preds = fitted_classifer.transform(test)\n",
    "preds.show()"
   ]
  },
  {
   "cell_type": "code",
   "execution_count": 97,
   "id": "c915b266-bf83-4a6e-8c08-c76a1ff19876",
   "metadata": {},
   "outputs": [
    {
     "name": "stdout",
     "output_type": "stream",
     "text": [
      "+-----+-----+\n",
      "|label|count|\n",
      "+-----+-----+\n",
      "|  0.0| 4861|\n",
      "|  1.0| 2919|\n",
      "|  3.0| 2162|\n",
      "|  2.0| 2652|\n",
      "+-----+-----+\n",
      "\n"
     ]
    }
   ],
   "source": [
    "# It is strange to me that I only see in the top 20 instances labelled as 0. I will explore further.\n",
    "label_counts = preds.groupBy(\"label\").count()\n",
    "label_counts.show()"
   ]
  },
  {
   "cell_type": "markdown",
   "id": "72c1d3fd-1485-4949-823c-923e15cec643",
   "metadata": {},
   "source": [
    "Ok, it is a problem. The data is a bit umbalanced. Hopefully that will not impact negatively in the final metrics."
   ]
  },
  {
   "cell_type": "markdown",
   "id": "345b653b-b5b9-442c-9149-c1f8779f7d2d",
   "metadata": {},
   "source": [
    "### 4 - Model Evaluation"
   ]
  },
  {
   "cell_type": "code",
   "execution_count": 105,
   "id": "386af56a-9741-4734-b245-f4296fe61f64",
   "metadata": {},
   "outputs": [],
   "source": [
    "# Evaluator for accuracy\n",
    "evaluator = MulticlassClassificationEvaluator(predictionCol='prediction', labelCol='label', metricName='accuracy')"
   ]
  },
  {
   "cell_type": "code",
   "execution_count": 107,
   "id": "2181964a-307a-4d9a-8d6f-7db3f88795f4",
   "metadata": {},
   "outputs": [
    {
     "name": "stdout",
     "output_type": "stream",
     "text": [
      "Accuracy: 0.9645863109417183\n"
     ]
    }
   ],
   "source": [
    "# Accuracy\n",
    "accuracy = evaluator.evaluate(preds)\n",
    "print(f\"Accuracy: {accuracy}\")"
   ]
  },
  {
   "cell_type": "code",
   "execution_count": 109,
   "id": "40ace5ea-9d60-4113-b3ea-b510f4615bb2",
   "metadata": {},
   "outputs": [
    {
     "name": "stdout",
     "output_type": "stream",
     "text": [
      "F1 Score: 0.9645418633844949\n"
     ]
    }
   ],
   "source": [
    "evaluator_f1 = MulticlassClassificationEvaluator(predictionCol='prediction', labelCol='label', metricName='f1')\n",
    "f1_score = evaluator_f1.evaluate(preds)\n",
    "print(f\"F1 Score: {f1_score}\")"
   ]
  },
  {
   "cell_type": "code",
   "execution_count": 111,
   "id": "fcface3c-d2c2-41a9-bdc1-bfefbcfdb70d",
   "metadata": {},
   "outputs": [
    {
     "name": "stdout",
     "output_type": "stream",
     "text": [
      "Weighted Precision: 0.9647064454218772\n"
     ]
    }
   ],
   "source": [
    "evaluator_precision = MulticlassClassificationEvaluator(predictionCol='prediction', labelCol='label', metricName='weightedPrecision')\n",
    "precision = evaluator_precision.evaluate(preds)\n",
    "print(f\"Weighted Precision: {precision}\")"
   ]
  },
  {
   "cell_type": "code",
   "execution_count": 121,
   "id": "8e259600-7ed4-431f-abef-06cf0c0caf64",
   "metadata": {},
   "outputs": [
    {
     "name": "stdout",
     "output_type": "stream",
     "text": [
      "+-----+------------------+\n",
      "|label|          accuracy|\n",
      "+-----+------------------+\n",
      "|  0.0|0.9728450936021394|\n",
      "|  1.0| 0.947927372387804|\n",
      "|  3.0|0.9861239592969473|\n",
      "|  2.0|0.9502262443438914|\n",
      "+-----+------------------+\n",
      "\n"
     ]
    }
   ],
   "source": [
    "# predictions per class\n",
    "correct_preds = preds.filter(preds['prediction'] == preds['label']) \\\n",
    "                     .groupBy('label') \\\n",
    "                     .count() \\\n",
    "                     .withColumnRenamed('count', 'correct_count')\n",
    "\n",
    "# total instances per class\n",
    "total_per_class = preds.groupBy('label').count() \\\n",
    "                       .withColumnRenamed('count', 'total_count')\n",
    "\n",
    "# Join the two DataFrames to calculate per-class accuracy\n",
    "accuracy_by_label = correct_preds.join(total_per_class, on='label', how='inner') \\\n",
    "                                 .withColumn('accuracy', F.col('correct_count') / F.col('total_count'))\n",
    "\n",
    "# accuracy by label\n",
    "accuracy_by_label.select('label', 'accuracy').show()"
   ]
  },
  {
   "cell_type": "markdown",
   "id": "17de10be-6bf6-4363-a9b7-94c6e5d70793",
   "metadata": {},
   "source": [
    "### 4 - Conclussion"
   ]
  },
  {
   "cell_type": "markdown",
   "id": "6cc0c2ff-07b2-4e46-ba2a-93d4dc30f777",
   "metadata": {},
   "source": [
    "The model performs great, specially considering that the data is umbalanced. It reaches an accuracy of **0,96**. The accuracy for each class does not vary much either, ranging from 0,948 to 0,986."
   ]
  }
 ],
 "metadata": {
  "kernelspec": {
   "display_name": "Python 3 (ipykernel)",
   "language": "python",
   "name": "python3"
  },
  "language_info": {
   "codemirror_mode": {
    "name": "ipython",
    "version": 3
   },
   "file_extension": ".py",
   "mimetype": "text/x-python",
   "name": "python",
   "nbconvert_exporter": "python",
   "pygments_lexer": "ipython3",
   "version": "3.12.7"
  }
 },
 "nbformat": 4,
 "nbformat_minor": 5
}
